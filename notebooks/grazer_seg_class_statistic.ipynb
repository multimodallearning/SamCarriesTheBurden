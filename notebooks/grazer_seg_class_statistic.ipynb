{
 "cells": [
  {
   "cell_type": "code",
   "execution_count": 2,
   "id": "43d6c11c411e2260",
   "metadata": {
    "collapsed": true,
    "ExecuteTime": {
     "end_time": "2024-01-23T13:23:07.139310641Z",
     "start_time": "2024-01-23T13:23:04.606290559Z"
    }
   },
   "outputs": [
    {
     "name": "stdout",
     "output_type": "stream",
     "text": [
      "/home/ron/Documents/SemiSAM\n"
     ]
    },
    {
     "name": "stderr",
     "output_type": "stream",
     "text": [
      "\n",
      "Loading data for train:   0%|          | 0/43 [00:00<?, ?img/s]\u001B[A\n",
      "Loading data for train:   7%|▋         | 3/43 [00:00<00:01, 21.50img/s]\u001B[A\n",
      "Loading data for train:  14%|█▍        | 6/43 [00:00<00:01, 22.63img/s]\u001B[A\n",
      "Loading data for train:  21%|██        | 9/43 [00:00<00:01, 17.69img/s]\u001B[A\n",
      "Loading data for train:  28%|██▊       | 12/43 [00:00<00:01, 20.46img/s]\u001B[A\n",
      "Loading data for train:  35%|███▍      | 15/43 [00:00<00:01, 19.17img/s]\u001B[A\n",
      "Loading data for train:  42%|████▏     | 18/43 [00:00<00:01, 17.38img/s]\u001B[A\n",
      "Loading data for train:  47%|████▋     | 20/43 [00:01<00:01, 16.43img/s]\u001B[A\n",
      "Loading data for train:  51%|█████     | 22/43 [00:01<00:01, 16.61img/s]\u001B[A\n",
      "Loading data for train:  56%|█████▌    | 24/43 [00:01<00:01, 16.70img/s]\u001B[A\n",
      "Loading data for train:  63%|██████▎   | 27/43 [00:01<00:00, 19.85img/s]\u001B[A\n",
      "Loading data for train:  70%|██████▉   | 30/43 [00:01<00:00, 19.45img/s]\u001B[A\n",
      "Loading data for train:  77%|███████▋  | 33/43 [00:01<00:00, 18.35img/s]\u001B[A\n",
      "Loading data for train:  84%|████████▎ | 36/43 [00:01<00:00, 18.54img/s]\u001B[A\n",
      "Loading data for train:  91%|█████████ | 39/43 [00:02<00:00, 18.39img/s]\u001B[A\n",
      "Loading data for train: 100%|██████████| 43/43 [00:02<00:00, 17.51img/s]\u001B[A\n",
      "\n",
      "loading masks: 100%|██████████| 43/43 [00:00<00:00, 122191.78it/s]\n"
     ]
    }
   ],
   "source": [
    "import torch\n",
    "\n",
    "from scripts.seg_grazpedwri_dataset import LightSegGrazPedWriDataset\n",
    "from tqdm import tqdm\n",
    "import os \n",
    "\n",
    "os.chdir('/home/ron/Documents/SemiSAM')\n",
    "print(os.getcwd())\n",
    "\n",
    "ds = LightSegGrazPedWriDataset('train')\n",
    "Y = torch.stack([y for _, y, _ in tqdm(ds, desc='loading masks')], dim=0).bool()"
   ]
  },
  {
   "cell_type": "markdown",
   "source": [
    "# class count: count samples with at least one pixel of the class "
   ],
   "metadata": {
    "collapsed": false
   },
   "id": "84c6dbfdb8bb0fd6"
  },
  {
   "cell_type": "code",
   "execution_count": 3,
   "outputs": [
    {
     "data": {
      "text/plain": "tensor([34, 24, 40, 40, 34, 22, 31, 27, 27, 35, 41, 41, 42, 41, 40, 43, 42])"
     },
     "execution_count": 3,
     "metadata": {},
     "output_type": "execute_result"
    }
   ],
   "source": [
    "N, C = Y.shape[:2]\n",
    "Y.view(N, C, -1).any(dim=2).sum(dim=0)"
   ],
   "metadata": {
    "collapsed": false,
    "ExecuteTime": {
     "end_time": "2024-01-23T13:23:07.150960133Z",
     "start_time": "2024-01-23T13:23:07.141026887Z"
    }
   },
   "id": "d9ee4e4e4d6b78c0"
  },
  {
   "cell_type": "markdown",
   "source": [
    "# positive weights for binary cross entropy"
   ],
   "metadata": {
    "collapsed": false
   },
   "id": "69e595cc50a9cfe0"
  },
  {
   "cell_type": "code",
   "outputs": [
    {
     "data": {
      "text/plain": "tensor([108.1348, 349.1551,  69.6342,  96.0886, 167.7897, 364.5914, 131.5362,\n        176.2591, 240.9182, 169.5408,  60.1363,  46.6512,  51.6916,  58.6216,\n         52.5956,  11.2623,  17.9409])"
     },
     "execution_count": 4,
     "metadata": {},
     "output_type": "execute_result"
    }
   ],
   "source": [
    "pos_count = Y.sum(dim=(0, 2, 3))\n",
    "neg_count = Y.logical_not().sum(dim=(0, 2, 3))\n",
    "p_c = neg_count / pos_count\n",
    "p_c"
   ],
   "metadata": {
    "collapsed": false,
    "ExecuteTime": {
     "end_time": "2024-01-23T13:23:07.281772089Z",
     "start_time": "2024-01-23T13:23:07.150270378Z"
    }
   },
   "id": "4a605414561a86a4",
   "execution_count": 4
  }
 ],
 "metadata": {
  "kernelspec": {
   "display_name": "Python 3",
   "language": "python",
   "name": "python3"
  },
  "language_info": {
   "codemirror_mode": {
    "name": "ipython",
    "version": 2
   },
   "file_extension": ".py",
   "mimetype": "text/x-python",
   "name": "python",
   "nbconvert_exporter": "python",
   "pygments_lexer": "ipython2",
   "version": "2.7.6"
  }
 },
 "nbformat": 4,
 "nbformat_minor": 5
}
