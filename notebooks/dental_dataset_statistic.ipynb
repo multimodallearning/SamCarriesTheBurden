{
 "cells": [
  {
   "cell_type": "code",
   "execution_count": 1,
   "id": "43d6c11c411e2260",
   "metadata": {
    "collapsed": true,
    "ExecuteTime": {
     "end_time": "2024-05-24T12:00:46.637417Z",
     "start_time": "2024-05-24T12:00:35.794182Z"
    }
   },
   "outputs": [
    {
     "name": "stdout",
     "output_type": "stream",
     "text": [
      "/home/ron/Documents/SemiSAM\n"
     ]
    },
    {
     "name": "stderr",
     "output_type": "stream",
     "text": [
      "Loading data: 100%|██████████| 450/450 [00:07<00:00, 57.52file/s]\n",
      "loading masks: 100%|██████████| 450/450 [00:00<00:00, 2935360.50it/s]\n"
     ]
    }
   ],
   "source": [
    "import torch\n",
    "\n",
    "from scripts.dental_dataset import DentalDataset\n",
    "from tqdm import tqdm\n",
    "import os \n",
    "\n",
    "os.chdir('/home/ron/Documents/SemiSAM')\n",
    "print(os.getcwd())\n",
    "\n",
    "ds = DentalDataset('train')\n",
    "Y = torch.stack([y for _, y, _ in tqdm(ds, desc='loading masks')], dim=0).bool()"
   ]
  },
  {
   "cell_type": "markdown",
   "source": [
    "# class count: count samples with at least one pixel of the class "
   ],
   "metadata": {
    "collapsed": false
   },
   "id": "84c6dbfdb8bb0fd6"
  },
  {
   "cell_type": "code",
   "execution_count": 2,
   "outputs": [
    {
     "data": {
      "text/plain": "tensor([320, 325, 367, 388, 341, 256, 378, 406, 429, 438, 432, 436, 433, 243,\n        244, 436, 247, 245, 360, 329, 321, 335, 386, 375, 388, 389, 387, 311,\n        410, 374, 265, 321])"
     },
     "execution_count": 2,
     "metadata": {},
     "output_type": "execute_result"
    }
   ],
   "source": [
    "N, C = Y.shape[:2]\n",
    "Y.view(N, C, -1).any(dim=2).sum(dim=0)"
   ],
   "metadata": {
    "collapsed": false,
    "ExecuteTime": {
     "end_time": "2024-05-24T12:00:46.733857Z",
     "start_time": "2024-05-24T12:00:46.638320Z"
    }
   },
   "id": "d9ee4e4e4d6b78c0"
  },
  {
   "cell_type": "markdown",
   "source": [
    "# positive weights for binary cross entropy"
   ],
   "metadata": {
    "collapsed": false
   },
   "id": "69e595cc50a9cfe0"
  },
  {
   "cell_type": "code",
   "outputs": [
    {
     "data": {
      "text/plain": "tensor([270.1158, 192.5302, 188.6575, 189.5051, 244.8739, 214.9675, 222.4272,\n        227.7497, 185.8342, 259.1098, 308.6378, 301.8164, 179.1835, 265.5014,\n        344.5692, 255.3629, 284.0897, 314.7787, 177.8944, 176.8611, 257.4408,\n        246.6468, 183.3314, 222.9948, 170.8807, 168.2754, 226.9026, 188.9870,\n        212.7988, 211.4843, 192.7491, 173.3434])"
     },
     "execution_count": 3,
     "metadata": {},
     "output_type": "execute_result"
    }
   ],
   "source": [
    "pos_count = Y.sum(dim=(0, 2, 3))\n",
    "neg_count = Y.logical_not().sum(dim=(0, 2, 3))\n",
    "p_c = neg_count / pos_count\n",
    "p_c"
   ],
   "metadata": {
    "collapsed": false,
    "ExecuteTime": {
     "end_time": "2024-05-24T12:00:50.147216Z",
     "start_time": "2024-05-24T12:00:46.734561Z"
    }
   },
   "id": "4a605414561a86a4",
   "execution_count": 3
  },
  {
   "cell_type": "markdown",
   "source": [
    "# Image statistics"
   ],
   "metadata": {
    "collapsed": false
   },
   "id": "b1ac8679f26e677"
  },
  {
   "cell_type": "code",
   "outputs": [
    {
     "name": "stderr",
     "output_type": "stream",
     "text": [
      "loading images: 100%|██████████| 450/450 [00:00<00:00, 2377124.43it/s]"
     ]
    },
    {
     "name": "stdout",
     "output_type": "stream",
     "text": [
      "tensor(0.3432) tensor(0.2211)\n"
     ]
    },
    {
     "name": "stderr",
     "output_type": "stream",
     "text": [
      "\n"
     ]
    }
   ],
   "source": [
    "del Y\n",
    "X = torch.stack([x for x, _, _ in tqdm(ds, desc='loading images')], dim=0)\n",
    "X = X.flatten(2, 3)\n",
    "print(X.mean(), X.std())"
   ],
   "metadata": {
    "collapsed": false,
    "ExecuteTime": {
     "end_time": "2024-05-24T12:00:50.289613Z",
     "start_time": "2024-05-24T12:00:50.148803Z"
    }
   },
   "id": "2acd72ba2b7a7495",
   "execution_count": 4
  }
 ],
 "metadata": {
  "kernelspec": {
   "display_name": "Python 3",
   "language": "python",
   "name": "python3"
  },
  "language_info": {
   "codemirror_mode": {
    "name": "ipython",
    "version": 2
   },
   "file_extension": ".py",
   "mimetype": "text/x-python",
   "name": "python",
   "nbconvert_exporter": "python",
   "pygments_lexer": "ipython2",
   "version": "2.7.6"
  }
 },
 "nbformat": 4,
 "nbformat_minor": 5
}
